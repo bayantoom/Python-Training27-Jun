{
 "cells": [
  {
   "cell_type": "markdown",
   "metadata": {},
   "source": [
    "<div style=\"display: flex; align-items: center;\">\n",
    "    <img src=\"../img/es_logo.png\" alt=\"title\" style=\"margin-right: 20px;\">\n",
    "    <h1>Introduction to Python</h1>\n",
    "</div>"
   ]
  },
  {
   "cell_type": "markdown",
   "metadata": {},
   "source": [
    "### Recommended Readings:\n",
    "- GeeckforGeeks: [Class methods vs Static methods in Python](https://www.geeksforgeeks.org/class-method-vs-static-method-python/)\n",
    "- GeeksforGeeks: [Encapsulation in Python](https://www.geeksforgeeks.org/encapsulation-in-python/)\n",
    "- Dive Into Python: [Abstract Classes](https://diveintopython.org/learn/classes/abstract-class)\n",
    "- Real Python: [Multiple Inheritance in Python](https://realpython.com/lessons/multiple-inheritance-python/)"
   ]
  },
  {
   "cell_type": "markdown",
   "metadata": {},
   "source": []
  },
  {
   "cell_type": "markdown",
   "metadata": {},
   "source": [
    "#### exercise 1:\n",
    "Create a class named `Car` with the following attributes:\n",
    "- class attribute `car_count` which counts the number of cars created.\n",
    "- instance attributes `color`, `brand`, `year`, and `price`.\n",
    "\n",
    "and the following methods:\n",
    "- a class method `get_car_count` that returns the number of cars created.\n",
    "- a static method `car_info` that returns some information about what a car is."
   ]
  },
  {
   "cell_type": "code",
   "execution_count": 6,
   "metadata": {},
   "outputs": [
    {
     "name": "stdout",
     "output_type": "stream",
     "text": [
      "1\n",
      "2\n",
      "2\n",
      "A car has four wheels!\n"
     ]
    }
   ],
   "source": [
    "class Car:\n",
    "    \n",
    "    car_count = 0 \n",
    "\n",
    "    def __init__(self, color, brand, year, price):\n",
    "        self.color = color\n",
    "        self.brand = brand\n",
    "        self.year = year\n",
    "        self.price = price \n",
    "        Car.car_count += 1 \n",
    "\n",
    "    @classmethod\n",
    "    def get_car_count(self):\n",
    "        return Car.car_count\n",
    "\n",
    "    @staticmethod \n",
    "    def car_info():\n",
    "        return \"A car has four wheels!\"\n",
    "    \n",
    "\n",
    "\n",
    "car = Car(\"red\", \"BMW\", \"2023\", \"10\")\n",
    "print(Car.car_count)\n",
    "\n",
    "car2 = Car(\"blue\", \"BMW\", \"2023\", \"10\")\n",
    "print(Car.car_count)\n",
    "\n",
    "print(Car.get_car_count())\n",
    "\n",
    "print(Car.car_info())\n",
    "\n"
   ]
  },
  {
   "cell_type": "markdown",
   "metadata": {},
   "source": [
    "#### exercise 2:\n",
    "Create a class named `BankAccount` with the following attributes:\n",
    "- class attribute `interest_rate` that is shared among all instances of the class.\n",
    "- instance attributes `name`, `balance`.\n",
    "\n",
    "and the following methods:\n",
    "- a class method `set_interest_rate` that sets the interest rate.\n",
    "- a class method `get_interest_rate` that returns the interest rate.\n",
    "- a method `add_money` that adds a specific amount to the balance.\n",
    "- a method `withdraw_money` that withdraws a specific amount from the balance.\n",
    "- a method `get_account_balance` that returns the current balance of the account.\n",
    "- a method `calculate_annual_interest` that returns the annual interest on the account.\n",
    "> annual interest = balance * interest rate"
   ]
  },
  {
   "cell_type": "code",
   "execution_count": 19,
   "metadata": {},
   "outputs": [
    {
     "name": "stdout",
     "output_type": "stream",
     "text": [
      "0.05\n",
      "0.04\n",
      "0.04\n",
      "2000\n",
      "3000\n",
      "2500\n",
      "2500\n",
      "100.0\n"
     ]
    }
   ],
   "source": [
    "class BankAccount:\n",
    "    \n",
    "    interest_rate = 0.05\n",
    "\n",
    "    def __init__(self, name, balance=0):\n",
    "        self.name = name\n",
    "        self.balance = int(balance)\n",
    "\n",
    "    @classmethod \n",
    "    def set_interest_rate(cls, int_rate):\n",
    "        # cls.int_rate = int_rate\n",
    "        BankAccount.interest_rate = int_rate \n",
    "\n",
    "    @classmethod\n",
    "    def get_interest_rate(cls):\n",
    "        return BankAccount.interest_rate\n",
    "    \n",
    "    def add_money(self, amount):\n",
    "         self.balance += amount\n",
    "\n",
    "    def withdraw_money(self, amount):\n",
    "        self.balance -= amount \n",
    "\n",
    "    def get_account_balance(self):\n",
    "        return self.balance\n",
    "    \n",
    "    def calculate_annual_interest(self):\n",
    "        annual_interest = self.balance * BankAccount.interest_rate\n",
    "        return annual_interest\n",
    "    \n",
    "\n",
    "BA = BankAccount(\"Bayan\", 2000)\n",
    "\n",
    "print(BankAccount.interest_rate)\n",
    "BankAccount.set_interest_rate(0.04)\n",
    "print(BankAccount.interest_rate)\n",
    "print(BankAccount.get_interest_rate())\n",
    "\n",
    "print(BA.balance)\n",
    "\n",
    "BA.add_money(1000)\n",
    "print(BA.balance)\n",
    "\n",
    "BA.withdraw_money(500)\n",
    "print(BA.balance)\n",
    "\n",
    "print(BA.get_account_balance())\n",
    "\n",
    "print(BA.calculate_annual_interest())\n",
    "\n"
   ]
  },
  {
   "cell_type": "markdown",
   "metadata": {},
   "source": [
    "#### exercise 3:\n",
    "Create a class named `Person` with the following specifications:\n",
    "- private instance attributes `__name`, `__last_name`, `__age`.\n",
    "- create methods using `@property` decorator to return the values of the attributes.\n",
    "- create methods using `@<property_name>.setter` decorator to set the values of the attributes."
   ]
  },
  {
   "cell_type": "code",
   "execution_count": 28,
   "metadata": {},
   "outputs": [
    {
     "name": "stdout",
     "output_type": "stream",
     "text": [
      "Bayan\n",
      "Toom\n",
      "26\n",
      "Ammar\n",
      "Mesmar\n",
      "28\n"
     ]
    }
   ],
   "source": [
    "class Person:\n",
    "\n",
    "    def __init__ (self, name, last_name, age):\n",
    "        self.__name = name \n",
    "        self.__last_name = last_name \n",
    "        self.__age = age \n",
    "\n",
    "    @property\n",
    "    def name(self):\n",
    "        return self.__name\n",
    "    \n",
    "    @property\n",
    "    def last_name(self):\n",
    "        return self.__last_name\n",
    "    \n",
    "    @property\n",
    "    def age(self):\n",
    "        return self.__age\n",
    "    \n",
    "    @name.setter\n",
    "    def name(self, name):\n",
    "        self.__name = name \n",
    "\n",
    "    @last_name.setter\n",
    "    def last_name(self, last_name):\n",
    "        self.__last_name = last_name  \n",
    "\n",
    "    @age.setter\n",
    "    def age(self, age):\n",
    "        self.__age = age    \n",
    "\n",
    "\n",
    "\n",
    "p = Person(\"Bayan\", \"Toom\", 26)\n",
    "\n",
    "print(p.name)\n",
    "print(p.last_name)\n",
    "print(p.age)\n",
    "\n",
    "p.name = \"Ammar\"\n",
    "p.last_name = \"Mesmar\"\n",
    "p.age = 28\n",
    "\n",
    "print(p.name)\n",
    "print(p.last_name)\n",
    "print(p.age)\n",
    "\n",
    "\n",
    "\n",
    "    \n"
   ]
  },
  {
   "cell_type": "markdown",
   "metadata": {},
   "source": [
    "#### exercise 4:\n",
    "Create a class named `Employee` with the following attributes:\n",
    "- instance attributes `name`, `salary`.\n",
    "\n",
    "Create a class named `Manager` with the following attributes:\n",
    "- instance attribute `department`.\n",
    "\n",
    "Create a class Executive that inherits from both `Employee` and `Manager` classes and has the following attributes:\n",
    "- instance attributes `company_car`, `bonus`.\n",
    "- implement an appropriate `__str__` method to print the information about the executive."
   ]
  },
  {
   "cell_type": "code",
   "execution_count": 40,
   "metadata": {},
   "outputs": [
    {
     "name": "stdout",
     "output_type": "stream",
     "text": [
      "Executive Name: Ammar\n",
      "Salary: 1000\n",
      "Department: TAC\n",
      "Company Car: BMW\n",
      "Bonus: 1000\n"
     ]
    }
   ],
   "source": [
    "class Employee:\n",
    "\n",
    "    def __init__(self, name, salary):\n",
    "        self.name = name \n",
    "        self.salary = salary \n",
    "\n",
    "\n",
    "class Manager:\n",
    "    \n",
    "    def __init__(self, department):\n",
    "        self.department = department\n",
    "\n",
    "\n",
    "class Executive(Employee, Manager):\n",
    "    \n",
    "    def __init__(self, name, salary, department, company_car, bonus):\n",
    "        Employee.__init__(self, name, salary)\n",
    "        Manager.__init__(self, department)\n",
    "        self.company_car = company_car\n",
    "        self.bonus = bonus \n",
    "\n",
    "    def __str__(self):\n",
    "        return f\"Executive Name {self.name}\\nSalary: {self.salary}\\nDepartment: {self.department}\\nCompany Car: {self.company_car}\\nBonus: {self.bonus}\"\n",
    "    \n",
    "\n",
    "exe = Executive(\"Ammar\", 1000, \"TAC\", \"BMW\",1000)\n",
    "\n",
    "print(exe)\n"
   ]
  },
  {
   "cell_type": "markdown",
   "metadata": {},
   "source": [
    "#### exercise 5:\n",
    "Using method chaining, create a class `Person` with the following attributes:\n",
    "- instance attributes `name`, `age`.\n",
    "\n",
    "and the following methods:\n",
    "- a method `set_name` that sets the name of the person and returns the instance.\n",
    "- a method `set_age` that sets the age of the person and returns the instance.\n",
    "- a method `get_person_info` that returns the information about the person."
   ]
  },
  {
   "cell_type": "code",
   "execution_count": 44,
   "metadata": {},
   "outputs": [
    {
     "name": "stdout",
     "output_type": "stream",
     "text": [
      "Bayan\n",
      "26\n",
      "person name is Ammar and the person age is 28\n"
     ]
    }
   ],
   "source": [
    "class Person:\n",
    "    def __init__(self, name, age):\n",
    "        self.name = name\n",
    "        self.age = age\n",
    "    \n",
    "    def set_name(self, name):\n",
    "        self.name = name \n",
    "        return self\n",
    "\n",
    "    def set_age(self, age):\n",
    "        self.age = age \n",
    "        return self \n",
    "\n",
    "    def get_person_info(self):\n",
    "        return f\"person name is {self.name} and the person age is {self.age}\" \n",
    "    \n",
    "p = Person(\"Bayan\", 26)\n",
    "\n",
    "print(p.name)\n",
    "print(p.age)\n",
    "\n",
    "change = p.set_name(\"Ammar\").set_age(28).get_person_info()\n",
    "print(change)\n",
    "    \n"
   ]
  },
  {
   "cell_type": "code",
   "execution_count": null,
   "metadata": {},
   "outputs": [],
   "source": []
  }
 ],
 "metadata": {
  "kernelspec": {
   "display_name": "Python 3",
   "language": "python",
   "name": "python3"
  },
  "language_info": {
   "codemirror_mode": {
    "name": "ipython",
    "version": 3
   },
   "file_extension": ".py",
   "mimetype": "text/x-python",
   "name": "python",
   "nbconvert_exporter": "python",
   "pygments_lexer": "ipython3",
   "version": "3.12.3"
  }
 },
 "nbformat": 4,
 "nbformat_minor": 2
}
